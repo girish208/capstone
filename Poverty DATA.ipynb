{
 "cells": [
  {
   "cell_type": "code",
   "execution_count": 2,
   "metadata": {},
   "outputs": [],
   "source": [
    "import os\n",
    "os.chdir('C:/Users/ASUS/Desktop/Data Science/Capstone Project')"
   ]
  },
  {
   "cell_type": "code",
   "execution_count": 4,
   "metadata": {},
   "outputs": [],
   "source": [
    "import numpy as np # linear algebra\n",
    "import pandas as pd # data processing, CSV file I/O (e.g. pd.read_csv)\n",
    "import matplotlib.pyplot as plt #for plotting\n",
    "import seaborn as sea #for visualization\n",
    "\n",
    "# Set a few plotting defaults\n",
    "%matplotlib inline\n",
    "plt.style.use('fivethirtyeight')\n",
    "plt.rcParams['font.size'] = 15\n",
    "plt.rcParams['patch.edgecolor'] = 'k'\n",
    "\n",
    "\n",
    "# Input data files are available in the \"../input/\" directory.\n",
    "# For example, running this (by clicking run or pressing Shift+Enter) will list the files in the input directory\n",
    "\n",
    "# Suppress warnings from pandas\n",
    "import warnings\n",
    "warnings.filterwarnings('ignore')"
   ]
  },
  {
   "cell_type": "code",
   "execution_count": 5,
   "metadata": {},
   "outputs": [
    {
     "data": {
      "text/html": [
       "<div>\n",
       "<style scoped>\n",
       "    .dataframe tbody tr th:only-of-type {\n",
       "        vertical-align: middle;\n",
       "    }\n",
       "\n",
       "    .dataframe tbody tr th {\n",
       "        vertical-align: top;\n",
       "    }\n",
       "\n",
       "    .dataframe thead th {\n",
       "        text-align: right;\n",
       "    }\n",
       "</style>\n",
       "<table border=\"1\" class=\"dataframe\">\n",
       "  <thead>\n",
       "    <tr style=\"text-align: right;\">\n",
       "      <th></th>\n",
       "      <th>Id</th>\n",
       "      <th>Target</th>\n",
       "    </tr>\n",
       "  </thead>\n",
       "  <tbody>\n",
       "    <tr>\n",
       "      <th>0</th>\n",
       "      <td>ID_2f6873615</td>\n",
       "      <td>4</td>\n",
       "    </tr>\n",
       "    <tr>\n",
       "      <th>1</th>\n",
       "      <td>ID_1c78846d2</td>\n",
       "      <td>4</td>\n",
       "    </tr>\n",
       "    <tr>\n",
       "      <th>2</th>\n",
       "      <td>ID_e5442cf6a</td>\n",
       "      <td>4</td>\n",
       "    </tr>\n",
       "    <tr>\n",
       "      <th>3</th>\n",
       "      <td>ID_a8db26a79</td>\n",
       "      <td>4</td>\n",
       "    </tr>\n",
       "    <tr>\n",
       "      <th>4</th>\n",
       "      <td>ID_a62966799</td>\n",
       "      <td>4</td>\n",
       "    </tr>\n",
       "  </tbody>\n",
       "</table>\n",
       "</div>"
      ],
      "text/plain": [
       "             Id  Target\n",
       "0  ID_2f6873615       4\n",
       "1  ID_1c78846d2       4\n",
       "2  ID_e5442cf6a       4\n",
       "3  ID_a8db26a79       4\n",
       "4  ID_a62966799       4"
      ]
     },
     "execution_count": 5,
     "metadata": {},
     "output_type": "execute_result"
    }
   ],
   "source": [
    "sample=pd.read_csv('sample_submission.csv')\n",
    "sample.head()"
   ]
  },
  {
   "cell_type": "code",
   "execution_count": 6,
   "metadata": {},
   "outputs": [
    {
     "data": {
      "text/html": [
       "<div>\n",
       "<style scoped>\n",
       "    .dataframe tbody tr th:only-of-type {\n",
       "        vertical-align: middle;\n",
       "    }\n",
       "\n",
       "    .dataframe tbody tr th {\n",
       "        vertical-align: top;\n",
       "    }\n",
       "\n",
       "    .dataframe thead th {\n",
       "        text-align: right;\n",
       "    }\n",
       "</style>\n",
       "<table border=\"1\" class=\"dataframe\">\n",
       "  <thead>\n",
       "    <tr style=\"text-align: right;\">\n",
       "      <th></th>\n",
       "      <th>Id</th>\n",
       "      <th>v2a1</th>\n",
       "      <th>hacdor</th>\n",
       "      <th>rooms</th>\n",
       "      <th>hacapo</th>\n",
       "      <th>v14a</th>\n",
       "      <th>refrig</th>\n",
       "      <th>v18q</th>\n",
       "      <th>v18q1</th>\n",
       "      <th>r4h1</th>\n",
       "      <th>...</th>\n",
       "      <th>SQBescolari</th>\n",
       "      <th>SQBage</th>\n",
       "      <th>SQBhogar_total</th>\n",
       "      <th>SQBedjefe</th>\n",
       "      <th>SQBhogar_nin</th>\n",
       "      <th>SQBovercrowding</th>\n",
       "      <th>SQBdependency</th>\n",
       "      <th>SQBmeaned</th>\n",
       "      <th>agesq</th>\n",
       "      <th>Target</th>\n",
       "    </tr>\n",
       "  </thead>\n",
       "  <tbody>\n",
       "    <tr>\n",
       "      <th>0</th>\n",
       "      <td>ID_279628684</td>\n",
       "      <td>190000.0</td>\n",
       "      <td>0</td>\n",
       "      <td>3</td>\n",
       "      <td>0</td>\n",
       "      <td>1</td>\n",
       "      <td>1</td>\n",
       "      <td>0</td>\n",
       "      <td>NaN</td>\n",
       "      <td>0</td>\n",
       "      <td>...</td>\n",
       "      <td>100</td>\n",
       "      <td>1849</td>\n",
       "      <td>1</td>\n",
       "      <td>100</td>\n",
       "      <td>0</td>\n",
       "      <td>1.000000</td>\n",
       "      <td>0.0</td>\n",
       "      <td>100.0</td>\n",
       "      <td>1849</td>\n",
       "      <td>4</td>\n",
       "    </tr>\n",
       "    <tr>\n",
       "      <th>1</th>\n",
       "      <td>ID_f29eb3ddd</td>\n",
       "      <td>135000.0</td>\n",
       "      <td>0</td>\n",
       "      <td>4</td>\n",
       "      <td>0</td>\n",
       "      <td>1</td>\n",
       "      <td>1</td>\n",
       "      <td>1</td>\n",
       "      <td>1.0</td>\n",
       "      <td>0</td>\n",
       "      <td>...</td>\n",
       "      <td>144</td>\n",
       "      <td>4489</td>\n",
       "      <td>1</td>\n",
       "      <td>144</td>\n",
       "      <td>0</td>\n",
       "      <td>1.000000</td>\n",
       "      <td>64.0</td>\n",
       "      <td>144.0</td>\n",
       "      <td>4489</td>\n",
       "      <td>4</td>\n",
       "    </tr>\n",
       "    <tr>\n",
       "      <th>2</th>\n",
       "      <td>ID_68de51c94</td>\n",
       "      <td>NaN</td>\n",
       "      <td>0</td>\n",
       "      <td>8</td>\n",
       "      <td>0</td>\n",
       "      <td>1</td>\n",
       "      <td>1</td>\n",
       "      <td>0</td>\n",
       "      <td>NaN</td>\n",
       "      <td>0</td>\n",
       "      <td>...</td>\n",
       "      <td>121</td>\n",
       "      <td>8464</td>\n",
       "      <td>1</td>\n",
       "      <td>0</td>\n",
       "      <td>0</td>\n",
       "      <td>0.250000</td>\n",
       "      <td>64.0</td>\n",
       "      <td>121.0</td>\n",
       "      <td>8464</td>\n",
       "      <td>4</td>\n",
       "    </tr>\n",
       "    <tr>\n",
       "      <th>3</th>\n",
       "      <td>ID_d671db89c</td>\n",
       "      <td>180000.0</td>\n",
       "      <td>0</td>\n",
       "      <td>5</td>\n",
       "      <td>0</td>\n",
       "      <td>1</td>\n",
       "      <td>1</td>\n",
       "      <td>1</td>\n",
       "      <td>1.0</td>\n",
       "      <td>0</td>\n",
       "      <td>...</td>\n",
       "      <td>81</td>\n",
       "      <td>289</td>\n",
       "      <td>16</td>\n",
       "      <td>121</td>\n",
       "      <td>4</td>\n",
       "      <td>1.777778</td>\n",
       "      <td>1.0</td>\n",
       "      <td>121.0</td>\n",
       "      <td>289</td>\n",
       "      <td>4</td>\n",
       "    </tr>\n",
       "    <tr>\n",
       "      <th>4</th>\n",
       "      <td>ID_d56d6f5f5</td>\n",
       "      <td>180000.0</td>\n",
       "      <td>0</td>\n",
       "      <td>5</td>\n",
       "      <td>0</td>\n",
       "      <td>1</td>\n",
       "      <td>1</td>\n",
       "      <td>1</td>\n",
       "      <td>1.0</td>\n",
       "      <td>0</td>\n",
       "      <td>...</td>\n",
       "      <td>121</td>\n",
       "      <td>1369</td>\n",
       "      <td>16</td>\n",
       "      <td>121</td>\n",
       "      <td>4</td>\n",
       "      <td>1.777778</td>\n",
       "      <td>1.0</td>\n",
       "      <td>121.0</td>\n",
       "      <td>1369</td>\n",
       "      <td>4</td>\n",
       "    </tr>\n",
       "  </tbody>\n",
       "</table>\n",
       "<p>5 rows × 143 columns</p>\n",
       "</div>"
      ],
      "text/plain": [
       "             Id      v2a1  hacdor  rooms  hacapo  v14a  refrig  v18q  v18q1  \\\n",
       "0  ID_279628684  190000.0       0      3       0     1       1     0    NaN   \n",
       "1  ID_f29eb3ddd  135000.0       0      4       0     1       1     1    1.0   \n",
       "2  ID_68de51c94       NaN       0      8       0     1       1     0    NaN   \n",
       "3  ID_d671db89c  180000.0       0      5       0     1       1     1    1.0   \n",
       "4  ID_d56d6f5f5  180000.0       0      5       0     1       1     1    1.0   \n",
       "\n",
       "   r4h1  ...  SQBescolari  SQBage  SQBhogar_total  SQBedjefe  SQBhogar_nin  \\\n",
       "0     0  ...          100    1849               1        100             0   \n",
       "1     0  ...          144    4489               1        144             0   \n",
       "2     0  ...          121    8464               1          0             0   \n",
       "3     0  ...           81     289              16        121             4   \n",
       "4     0  ...          121    1369              16        121             4   \n",
       "\n",
       "   SQBovercrowding  SQBdependency  SQBmeaned  agesq  Target  \n",
       "0         1.000000            0.0      100.0   1849       4  \n",
       "1         1.000000           64.0      144.0   4489       4  \n",
       "2         0.250000           64.0      121.0   8464       4  \n",
       "3         1.777778            1.0      121.0    289       4  \n",
       "4         1.777778            1.0      121.0   1369       4  \n",
       "\n",
       "[5 rows x 143 columns]"
      ]
     },
     "execution_count": 6,
     "metadata": {},
     "output_type": "execute_result"
    }
   ],
   "source": [
    "train=pd.read_csv('train.csv')\n",
    "train.head()"
   ]
  },
  {
   "cell_type": "code",
   "execution_count": 7,
   "metadata": {},
   "outputs": [
    {
     "data": {
      "text/plain": [
       "(9557, 143)"
      ]
     },
     "execution_count": 7,
     "metadata": {},
     "output_type": "execute_result"
    }
   ],
   "source": [
    "train.shape"
   ]
  },
  {
   "cell_type": "code",
   "execution_count": 8,
   "metadata": {},
   "outputs": [
    {
     "name": "stdout",
     "output_type": "stream",
     "text": [
      "<class 'pandas.core.frame.DataFrame'>\n",
      "RangeIndex: 9557 entries, 0 to 9556\n",
      "Columns: 143 entries, Id to Target\n",
      "dtypes: float64(8), int64(130), object(5)\n",
      "memory usage: 10.4+ MB\n"
     ]
    }
   ],
   "source": [
    "train.info()"
   ]
  },
  {
   "cell_type": "code",
   "execution_count": 9,
   "metadata": {},
   "outputs": [
    {
     "data": {
      "text/html": [
       "<div>\n",
       "<style scoped>\n",
       "    .dataframe tbody tr th:only-of-type {\n",
       "        vertical-align: middle;\n",
       "    }\n",
       "\n",
       "    .dataframe tbody tr th {\n",
       "        vertical-align: top;\n",
       "    }\n",
       "\n",
       "    .dataframe thead th {\n",
       "        text-align: right;\n",
       "    }\n",
       "</style>\n",
       "<table border=\"1\" class=\"dataframe\">\n",
       "  <thead>\n",
       "    <tr style=\"text-align: right;\">\n",
       "      <th></th>\n",
       "      <th>Id</th>\n",
       "      <th>idhogar</th>\n",
       "      <th>dependency</th>\n",
       "      <th>edjefe</th>\n",
       "      <th>edjefa</th>\n",
       "    </tr>\n",
       "  </thead>\n",
       "  <tbody>\n",
       "    <tr>\n",
       "      <th>0</th>\n",
       "      <td>ID_279628684</td>\n",
       "      <td>21eb7fcc1</td>\n",
       "      <td>no</td>\n",
       "      <td>10</td>\n",
       "      <td>no</td>\n",
       "    </tr>\n",
       "    <tr>\n",
       "      <th>1</th>\n",
       "      <td>ID_f29eb3ddd</td>\n",
       "      <td>0e5d7a658</td>\n",
       "      <td>8</td>\n",
       "      <td>12</td>\n",
       "      <td>no</td>\n",
       "    </tr>\n",
       "    <tr>\n",
       "      <th>2</th>\n",
       "      <td>ID_68de51c94</td>\n",
       "      <td>2c7317ea8</td>\n",
       "      <td>8</td>\n",
       "      <td>no</td>\n",
       "      <td>11</td>\n",
       "    </tr>\n",
       "    <tr>\n",
       "      <th>3</th>\n",
       "      <td>ID_d671db89c</td>\n",
       "      <td>2b58d945f</td>\n",
       "      <td>yes</td>\n",
       "      <td>11</td>\n",
       "      <td>no</td>\n",
       "    </tr>\n",
       "    <tr>\n",
       "      <th>4</th>\n",
       "      <td>ID_d56d6f5f5</td>\n",
       "      <td>2b58d945f</td>\n",
       "      <td>yes</td>\n",
       "      <td>11</td>\n",
       "      <td>no</td>\n",
       "    </tr>\n",
       "  </tbody>\n",
       "</table>\n",
       "</div>"
      ],
      "text/plain": [
       "             Id    idhogar dependency edjefe edjefa\n",
       "0  ID_279628684  21eb7fcc1         no     10     no\n",
       "1  ID_f29eb3ddd  0e5d7a658          8     12     no\n",
       "2  ID_68de51c94  2c7317ea8          8     no     11\n",
       "3  ID_d671db89c  2b58d945f        yes     11     no\n",
       "4  ID_d56d6f5f5  2b58d945f        yes     11     no"
      ]
     },
     "execution_count": 9,
     "metadata": {},
     "output_type": "execute_result"
    }
   ],
   "source": [
    "train.select_dtypes(['object']).head()"
   ]
  },
  {
   "cell_type": "markdown",
   "metadata": {},
   "source": [
    "We will use ID idhogar later"
   ]
  },
  {
   "cell_type": "code",
   "execution_count": 10,
   "metadata": {},
   "outputs": [
    {
     "data": {
      "text/html": [
       "<div>\n",
       "<style scoped>\n",
       "    .dataframe tbody tr th:only-of-type {\n",
       "        vertical-align: middle;\n",
       "    }\n",
       "\n",
       "    .dataframe tbody tr th {\n",
       "        vertical-align: top;\n",
       "    }\n",
       "\n",
       "    .dataframe thead th {\n",
       "        text-align: right;\n",
       "    }\n",
       "</style>\n",
       "<table border=\"1\" class=\"dataframe\">\n",
       "  <thead>\n",
       "    <tr style=\"text-align: right;\">\n",
       "      <th></th>\n",
       "      <th>dependency</th>\n",
       "    </tr>\n",
       "  </thead>\n",
       "  <tbody>\n",
       "    <tr>\n",
       "      <th>yes</th>\n",
       "      <td>2192</td>\n",
       "    </tr>\n",
       "    <tr>\n",
       "      <th>no</th>\n",
       "      <td>1747</td>\n",
       "    </tr>\n",
       "    <tr>\n",
       "      <th>.5</th>\n",
       "      <td>1497</td>\n",
       "    </tr>\n",
       "    <tr>\n",
       "      <th>2</th>\n",
       "      <td>730</td>\n",
       "    </tr>\n",
       "    <tr>\n",
       "      <th>1.5</th>\n",
       "      <td>713</td>\n",
       "    </tr>\n",
       "    <tr>\n",
       "      <th>.33333334</th>\n",
       "      <td>598</td>\n",
       "    </tr>\n",
       "    <tr>\n",
       "      <th>.66666669</th>\n",
       "      <td>487</td>\n",
       "    </tr>\n",
       "    <tr>\n",
       "      <th>8</th>\n",
       "      <td>378</td>\n",
       "    </tr>\n",
       "    <tr>\n",
       "      <th>.25</th>\n",
       "      <td>260</td>\n",
       "    </tr>\n",
       "    <tr>\n",
       "      <th>3</th>\n",
       "      <td>236</td>\n",
       "    </tr>\n",
       "    <tr>\n",
       "      <th>4</th>\n",
       "      <td>100</td>\n",
       "    </tr>\n",
       "    <tr>\n",
       "      <th>.75</th>\n",
       "      <td>98</td>\n",
       "    </tr>\n",
       "    <tr>\n",
       "      <th>.2</th>\n",
       "      <td>90</td>\n",
       "    </tr>\n",
       "    <tr>\n",
       "      <th>1.3333334</th>\n",
       "      <td>84</td>\n",
       "    </tr>\n",
       "    <tr>\n",
       "      <th>.40000001</th>\n",
       "      <td>84</td>\n",
       "    </tr>\n",
       "    <tr>\n",
       "      <th>2.5</th>\n",
       "      <td>77</td>\n",
       "    </tr>\n",
       "    <tr>\n",
       "      <th>5</th>\n",
       "      <td>24</td>\n",
       "    </tr>\n",
       "    <tr>\n",
       "      <th>3.5</th>\n",
       "      <td>18</td>\n",
       "    </tr>\n",
       "    <tr>\n",
       "      <th>1.25</th>\n",
       "      <td>18</td>\n",
       "    </tr>\n",
       "    <tr>\n",
       "      <th>.80000001</th>\n",
       "      <td>18</td>\n",
       "    </tr>\n",
       "    <tr>\n",
       "      <th>2.25</th>\n",
       "      <td>13</td>\n",
       "    </tr>\n",
       "    <tr>\n",
       "      <th>.71428573</th>\n",
       "      <td>12</td>\n",
       "    </tr>\n",
       "    <tr>\n",
       "      <th>1.2</th>\n",
       "      <td>11</td>\n",
       "    </tr>\n",
       "    <tr>\n",
       "      <th>.22222222</th>\n",
       "      <td>11</td>\n",
       "    </tr>\n",
       "    <tr>\n",
       "      <th>1.75</th>\n",
       "      <td>11</td>\n",
       "    </tr>\n",
       "    <tr>\n",
       "      <th>.83333331</th>\n",
       "      <td>11</td>\n",
       "    </tr>\n",
       "    <tr>\n",
       "      <th>.2857143</th>\n",
       "      <td>9</td>\n",
       "    </tr>\n",
       "    <tr>\n",
       "      <th>1.6666666</th>\n",
       "      <td>8</td>\n",
       "    </tr>\n",
       "    <tr>\n",
       "      <th>.60000002</th>\n",
       "      <td>8</td>\n",
       "    </tr>\n",
       "    <tr>\n",
       "      <th>6</th>\n",
       "      <td>7</td>\n",
       "    </tr>\n",
       "    <tr>\n",
       "      <th>.16666667</th>\n",
       "      <td>7</td>\n",
       "    </tr>\n",
       "  </tbody>\n",
       "</table>\n",
       "</div>"
      ],
      "text/plain": [
       "           dependency\n",
       "yes              2192\n",
       "no               1747\n",
       ".5               1497\n",
       "2                 730\n",
       "1.5               713\n",
       ".33333334         598\n",
       ".66666669         487\n",
       "8                 378\n",
       ".25               260\n",
       "3                 236\n",
       "4                 100\n",
       ".75                98\n",
       ".2                 90\n",
       "1.3333334          84\n",
       ".40000001          84\n",
       "2.5                77\n",
       "5                  24\n",
       "3.5                18\n",
       "1.25               18\n",
       ".80000001          18\n",
       "2.25               13\n",
       ".71428573          12\n",
       "1.2                11\n",
       ".22222222          11\n",
       "1.75               11\n",
       ".83333331          11\n",
       ".2857143            9\n",
       "1.6666666           8\n",
       ".60000002           8\n",
       "6                   7\n",
       ".16666667           7"
      ]
     },
     "execution_count": 10,
     "metadata": {},
     "output_type": "execute_result"
    }
   ],
   "source": [
    "train['dependency'].value_counts().to_frame()"
   ]
  },
  {
   "cell_type": "code",
   "execution_count": 11,
   "metadata": {},
   "outputs": [
    {
     "name": "stdout",
     "output_type": "stream",
     "text": [
      "0.0    1747\n",
      "Name: SQBdependency, dtype: int64\n",
      "1.0    2192\n",
      "Name: SQBdependency, dtype: int64\n"
     ]
    }
   ],
   "source": [
    "print(train.loc[train['dependency']=='no',['SQBdependency']]['SQBdependency'].value_counts())\n",
    "print(train.loc[train['dependency']=='yes',['SQBdependency']]['SQBdependency'].value_counts())\n"
   ]
  },
  {
   "cell_type": "code",
   "execution_count": 12,
   "metadata": {},
   "outputs": [],
   "source": [
    "#Converting dependenct Object DataType to Integer\n",
    "train['dependency'].replace(('yes','no'),(1,0),inplace=True)"
   ]
  },
  {
   "cell_type": "code",
   "execution_count": 13,
   "metadata": {},
   "outputs": [
    {
     "data": {
      "text/html": [
       "<div>\n",
       "<style scoped>\n",
       "    .dataframe tbody tr th:only-of-type {\n",
       "        vertical-align: middle;\n",
       "    }\n",
       "\n",
       "    .dataframe tbody tr th {\n",
       "        vertical-align: top;\n",
       "    }\n",
       "\n",
       "    .dataframe thead th {\n",
       "        text-align: right;\n",
       "    }\n",
       "</style>\n",
       "<table border=\"1\" class=\"dataframe\">\n",
       "  <thead>\n",
       "    <tr style=\"text-align: right;\">\n",
       "      <th></th>\n",
       "      <th>edjefe</th>\n",
       "    </tr>\n",
       "  </thead>\n",
       "  <tbody>\n",
       "    <tr>\n",
       "      <th>no</th>\n",
       "      <td>3762</td>\n",
       "    </tr>\n",
       "    <tr>\n",
       "      <th>6</th>\n",
       "      <td>1845</td>\n",
       "    </tr>\n",
       "    <tr>\n",
       "      <th>11</th>\n",
       "      <td>751</td>\n",
       "    </tr>\n",
       "    <tr>\n",
       "      <th>9</th>\n",
       "      <td>486</td>\n",
       "    </tr>\n",
       "    <tr>\n",
       "      <th>3</th>\n",
       "      <td>307</td>\n",
       "    </tr>\n",
       "    <tr>\n",
       "      <th>15</th>\n",
       "      <td>285</td>\n",
       "    </tr>\n",
       "    <tr>\n",
       "      <th>8</th>\n",
       "      <td>257</td>\n",
       "    </tr>\n",
       "    <tr>\n",
       "      <th>7</th>\n",
       "      <td>234</td>\n",
       "    </tr>\n",
       "    <tr>\n",
       "      <th>5</th>\n",
       "      <td>222</td>\n",
       "    </tr>\n",
       "    <tr>\n",
       "      <th>14</th>\n",
       "      <td>208</td>\n",
       "    </tr>\n",
       "    <tr>\n",
       "      <th>17</th>\n",
       "      <td>202</td>\n",
       "    </tr>\n",
       "    <tr>\n",
       "      <th>2</th>\n",
       "      <td>194</td>\n",
       "    </tr>\n",
       "    <tr>\n",
       "      <th>4</th>\n",
       "      <td>137</td>\n",
       "    </tr>\n",
       "    <tr>\n",
       "      <th>16</th>\n",
       "      <td>134</td>\n",
       "    </tr>\n",
       "    <tr>\n",
       "      <th>yes</th>\n",
       "      <td>123</td>\n",
       "    </tr>\n",
       "    <tr>\n",
       "      <th>12</th>\n",
       "      <td>113</td>\n",
       "    </tr>\n",
       "    <tr>\n",
       "      <th>10</th>\n",
       "      <td>111</td>\n",
       "    </tr>\n",
       "    <tr>\n",
       "      <th>13</th>\n",
       "      <td>103</td>\n",
       "    </tr>\n",
       "    <tr>\n",
       "      <th>21</th>\n",
       "      <td>43</td>\n",
       "    </tr>\n",
       "    <tr>\n",
       "      <th>18</th>\n",
       "      <td>19</td>\n",
       "    </tr>\n",
       "    <tr>\n",
       "      <th>19</th>\n",
       "      <td>14</td>\n",
       "    </tr>\n",
       "    <tr>\n",
       "      <th>20</th>\n",
       "      <td>7</td>\n",
       "    </tr>\n",
       "  </tbody>\n",
       "</table>\n",
       "</div>"
      ],
      "text/plain": [
       "     edjefe\n",
       "no     3762\n",
       "6      1845\n",
       "11      751\n",
       "9       486\n",
       "3       307\n",
       "15      285\n",
       "8       257\n",
       "7       234\n",
       "5       222\n",
       "14      208\n",
       "17      202\n",
       "2       194\n",
       "4       137\n",
       "16      134\n",
       "yes     123\n",
       "12      113\n",
       "10      111\n",
       "13      103\n",
       "21       43\n",
       "18       19\n",
       "19       14\n",
       "20        7"
      ]
     },
     "execution_count": 13,
     "metadata": {},
     "output_type": "execute_result"
    }
   ],
   "source": [
    "#edjefe=years of education of male head of household\n",
    "train['edjefe'].value_counts().to_frame()"
   ]
  },
  {
   "cell_type": "code",
   "execution_count": 14,
   "metadata": {},
   "outputs": [
    {
     "data": {
      "text/html": [
       "<div>\n",
       "<style scoped>\n",
       "    .dataframe tbody tr th:only-of-type {\n",
       "        vertical-align: middle;\n",
       "    }\n",
       "\n",
       "    .dataframe tbody tr th {\n",
       "        vertical-align: top;\n",
       "    }\n",
       "\n",
       "    .dataframe thead th {\n",
       "        text-align: right;\n",
       "    }\n",
       "</style>\n",
       "<table border=\"1\" class=\"dataframe\">\n",
       "  <thead>\n",
       "    <tr style=\"text-align: right;\">\n",
       "      <th></th>\n",
       "      <th>edjefa</th>\n",
       "    </tr>\n",
       "  </thead>\n",
       "  <tbody>\n",
       "    <tr>\n",
       "      <th>no</th>\n",
       "      <td>6230</td>\n",
       "    </tr>\n",
       "    <tr>\n",
       "      <th>6</th>\n",
       "      <td>947</td>\n",
       "    </tr>\n",
       "    <tr>\n",
       "      <th>11</th>\n",
       "      <td>399</td>\n",
       "    </tr>\n",
       "    <tr>\n",
       "      <th>9</th>\n",
       "      <td>237</td>\n",
       "    </tr>\n",
       "    <tr>\n",
       "      <th>8</th>\n",
       "      <td>217</td>\n",
       "    </tr>\n",
       "    <tr>\n",
       "      <th>15</th>\n",
       "      <td>188</td>\n",
       "    </tr>\n",
       "    <tr>\n",
       "      <th>7</th>\n",
       "      <td>179</td>\n",
       "    </tr>\n",
       "    <tr>\n",
       "      <th>5</th>\n",
       "      <td>176</td>\n",
       "    </tr>\n",
       "    <tr>\n",
       "      <th>3</th>\n",
       "      <td>152</td>\n",
       "    </tr>\n",
       "    <tr>\n",
       "      <th>4</th>\n",
       "      <td>136</td>\n",
       "    </tr>\n",
       "    <tr>\n",
       "      <th>14</th>\n",
       "      <td>120</td>\n",
       "    </tr>\n",
       "    <tr>\n",
       "      <th>16</th>\n",
       "      <td>113</td>\n",
       "    </tr>\n",
       "    <tr>\n",
       "      <th>10</th>\n",
       "      <td>96</td>\n",
       "    </tr>\n",
       "    <tr>\n",
       "      <th>2</th>\n",
       "      <td>84</td>\n",
       "    </tr>\n",
       "    <tr>\n",
       "      <th>17</th>\n",
       "      <td>76</td>\n",
       "    </tr>\n",
       "    <tr>\n",
       "      <th>12</th>\n",
       "      <td>72</td>\n",
       "    </tr>\n",
       "    <tr>\n",
       "      <th>yes</th>\n",
       "      <td>69</td>\n",
       "    </tr>\n",
       "    <tr>\n",
       "      <th>13</th>\n",
       "      <td>52</td>\n",
       "    </tr>\n",
       "    <tr>\n",
       "      <th>21</th>\n",
       "      <td>5</td>\n",
       "    </tr>\n",
       "    <tr>\n",
       "      <th>19</th>\n",
       "      <td>4</td>\n",
       "    </tr>\n",
       "    <tr>\n",
       "      <th>18</th>\n",
       "      <td>3</td>\n",
       "    </tr>\n",
       "    <tr>\n",
       "      <th>20</th>\n",
       "      <td>2</td>\n",
       "    </tr>\n",
       "  </tbody>\n",
       "</table>\n",
       "</div>"
      ],
      "text/plain": [
       "     edjefa\n",
       "no     6230\n",
       "6       947\n",
       "11      399\n",
       "9       237\n",
       "8       217\n",
       "15      188\n",
       "7       179\n",
       "5       176\n",
       "3       152\n",
       "4       136\n",
       "14      120\n",
       "16      113\n",
       "10       96\n",
       "2        84\n",
       "17       76\n",
       "12       72\n",
       "yes      69\n",
       "13       52\n",
       "21        5\n",
       "19        4\n",
       "18        3\n",
       "20        2"
      ]
     },
     "execution_count": 14,
     "metadata": {},
     "output_type": "execute_result"
    }
   ],
   "source": [
    "#years of education of female head of household, based on the interaction of escolari (years of education)\n",
    "#, head of household and gender, yes=1 and no=0\n",
    "train['edjefa'].value_counts().to_frame()"
   ]
  },
  {
   "cell_type": "code",
   "execution_count": 15,
   "metadata": {},
   "outputs": [
    {
     "name": "stdout",
     "output_type": "stream",
     "text": [
      "1    123\n",
      "Name: SQBedjefe, dtype: int64\n",
      "0    3762\n",
      "Name: SQBedjefe, dtype: int64\n"
     ]
    }
   ],
   "source": [
    "print(train.loc[train.edjefe=='yes',['SQBedjefe']]['SQBedjefe'].value_counts())\n",
    "print(train.loc[train['edjefe']=='no',['SQBedjefe']]['SQBedjefe'].value_counts())"
   ]
  },
  {
   "cell_type": "code",
   "execution_count": 16,
   "metadata": {},
   "outputs": [],
   "source": [
    "train['edjefe'].replace(('yes','no'),(1,0),inplace=True)\n"
   ]
  },
  {
   "cell_type": "code",
   "execution_count": 17,
   "metadata": {},
   "outputs": [],
   "source": [
    "train['edjefa'].replace(('yes','no'),(1,0),inplace=True)"
   ]
  },
  {
   "cell_type": "code",
   "execution_count": 18,
   "metadata": {},
   "outputs": [],
   "source": [
    "#converting these object type columns to floats\n",
    "train['edjefa']=train['edjefa'].astype(float)\n",
    "train['edjefe']=train['edjefe'].astype(float)\n"
   ]
  },
  {
   "cell_type": "markdown",
   "metadata": {},
   "source": [
    "# Cleaning Data"
   ]
  },
  {
   "cell_type": "code",
   "execution_count": 19,
   "metadata": {},
   "outputs": [
    {
     "data": {
      "text/html": [
       "<div>\n",
       "<style scoped>\n",
       "    .dataframe tbody tr th:only-of-type {\n",
       "        vertical-align: middle;\n",
       "    }\n",
       "\n",
       "    .dataframe tbody tr th {\n",
       "        vertical-align: top;\n",
       "    }\n",
       "\n",
       "    .dataframe thead th {\n",
       "        text-align: right;\n",
       "    }\n",
       "</style>\n",
       "<table border=\"1\" class=\"dataframe\">\n",
       "  <thead>\n",
       "    <tr style=\"text-align: right;\">\n",
       "      <th></th>\n",
       "      <th>0</th>\n",
       "    </tr>\n",
       "  </thead>\n",
       "  <tbody>\n",
       "    <tr>\n",
       "      <th>rez_esc</th>\n",
       "      <td>7928</td>\n",
       "    </tr>\n",
       "    <tr>\n",
       "      <th>v18q1</th>\n",
       "      <td>7342</td>\n",
       "    </tr>\n",
       "    <tr>\n",
       "      <th>v2a1</th>\n",
       "      <td>6860</td>\n",
       "    </tr>\n",
       "    <tr>\n",
       "      <th>SQBmeaned</th>\n",
       "      <td>5</td>\n",
       "    </tr>\n",
       "    <tr>\n",
       "      <th>meaneduc</th>\n",
       "      <td>5</td>\n",
       "    </tr>\n",
       "  </tbody>\n",
       "</table>\n",
       "</div>"
      ],
      "text/plain": [
       "              0\n",
       "rez_esc    7928\n",
       "v18q1      7342\n",
       "v2a1       6860\n",
       "SQBmeaned     5\n",
       "meaneduc      5"
      ]
     },
     "execution_count": 19,
     "metadata": {},
     "output_type": "execute_result"
    }
   ],
   "source": [
    "missing_values=train.isnull().sum().to_frame().sort_values(0,ascending=False)\n",
    "missing_values.head()"
   ]
  },
  {
   "cell_type": "code",
   "execution_count": 20,
   "metadata": {},
   "outputs": [
    {
     "data": {
      "text/plain": [
       "v18q\n",
       "0    7342\n",
       "1       0\n",
       "Name: v18q1, dtype: int64"
      ]
     },
     "execution_count": 20,
     "metadata": {},
     "output_type": "execute_result"
    }
   ],
   "source": [
    "train.groupby('v18q')['v18q1'].apply(lambda x: x.isnull().sum())"
   ]
  },
  {
   "cell_type": "markdown",
   "metadata": {},
   "source": [
    "Every Household that has null value does not owns a tablet"
   ]
  },
  {
   "cell_type": "code",
   "execution_count": 21,
   "metadata": {},
   "outputs": [],
   "source": [
    "train['v18q1']=train['v18q1'].fillna(0)"
   ]
  },
  {
   "cell_type": "markdown",
   "metadata": {},
   "source": [
    "# 2 Years behind in School\n"
   ]
  },
  {
   "cell_type": "code",
   "execution_count": 22,
   "metadata": {},
   "outputs": [
    {
     "name": "stdout",
     "output_type": "stream",
     "text": [
      "23    189\n",
      "20    179\n",
      "18    179\n",
      "30    178\n",
      "19    170\n",
      "Name: age, dtype: int64\n",
      "0    6745\n",
      "1    1183\n",
      "Name: instlevel1, dtype: int64\n",
      "0    7031\n",
      "1     897\n",
      "Name: instlevel2, dtype: int64\n"
     ]
    }
   ],
   "source": [
    "#finding if null values is maximum for minors or people without education\n",
    "print(train.loc[train['rez_esc'].isnull()]['age'].value_counts().head())\n",
    "print(train.loc[train['rez_esc'].isnull()]['instlevel1'].value_counts())\n",
    "print(train.loc[train['rez_esc'].isnull()]['instlevel2'].value_counts())"
   ]
  },
  {
   "cell_type": "code",
   "execution_count": 23,
   "metadata": {},
   "outputs": [
    {
     "name": "stdout",
     "output_type": "stream",
     "text": [
      "count    1629.000000\n",
      "mean       12.258441\n",
      "std         3.218325\n",
      "min         7.000000\n",
      "25%         9.000000\n",
      "50%        12.000000\n",
      "75%        15.000000\n",
      "max        17.000000\n",
      "Name: age, dtype: float64\n"
     ]
    }
   ],
   "source": [
    "# Estimating age of Children in School with descriptive statistics\n",
    "print(train.loc[train['rez_esc'].notnull()]['age'].describe())"
   ]
  },
  {
   "cell_type": "markdown",
   "metadata": {},
   "source": [
    "It is possible that rows with null values in rez_esc are of people who are out of school age and hecnce could not attend it. W replace null values with 0\n"
   ]
  },
  {
   "cell_type": "code",
   "execution_count": 24,
   "metadata": {},
   "outputs": [],
   "source": [
    "train['rez_esc']=train['rez_esc'].fillna(0)"
   ]
  },
  {
   "cell_type": "markdown",
   "metadata": {},
   "source": [
    "v2a1=Monthly Rent Payment which has null values\n",
    "This could be because 1. They own a house(tipovivi1)\n",
    "2. They own a house but paying in installments(tipovivi2)\n",
    "3. They rented their house (tipovivi3)\n",
    "4. Precarious reasons (tipovivi4)\n",
    "5. They borrowed or assigned the house(tipovivi5)"
   ]
  },
  {
   "cell_type": "code",
   "execution_count": 25,
   "metadata": {},
   "outputs": [
    {
     "name": "stdout",
     "output_type": "stream",
     "text": [
      "1    5911\n",
      "0     949\n",
      "Name: tipovivi1, dtype: int64\n",
      "0    6860\n",
      "Name: tipovivi2, dtype: int64\n",
      "0    6860\n",
      "Name: tipovivi3, dtype: int64\n",
      "0    6860\n",
      "Name: tipovivi3, dtype: int64\n",
      "0    6697\n",
      "1     163\n",
      "Name: tipovivi4, dtype: int64\n",
      "0    6074\n",
      "1     786\n",
      "Name: tipovivi5, dtype: int64\n"
     ]
    }
   ],
   "source": [
    "print(train.loc[train['v2a1'].isnull()]['tipovivi1'].value_counts())\n",
    "print(train.loc[train['v2a1'].isnull()]['tipovivi2'].value_counts())\n",
    "print(train.loc[train['v2a1'].isnull()]['tipovivi3'].value_counts())\n",
    "print(train.loc[train['v2a1'].isnull()]['tipovivi3'].value_counts())\n",
    "print(train.loc[train['v2a1'].isnull()]['tipovivi4'].value_counts())\n",
    "print(train.loc[train['v2a1'].isnull()]['tipovivi5'].value_counts())\n"
   ]
  },
  {
   "cell_type": "code",
   "execution_count": 26,
   "metadata": {},
   "outputs": [],
   "source": [
    "# Thus, it is found that null values is because of Own Accomodation,precarious reasons and due to borrowed or assignement of house\n",
    "train['v2a1']=train['v2a1'].fillna(0)"
   ]
  },
  {
   "cell_type": "code",
   "execution_count": 27,
   "metadata": {},
   "outputs": [
    {
     "data": {
      "text/plain": [
       "0"
      ]
     },
     "execution_count": 27,
     "metadata": {},
     "output_type": "execute_result"
    }
   ],
   "source": [
    "train['v2a1'].isnull().sum()"
   ]
  },
  {
   "cell_type": "code",
   "execution_count": 117,
   "metadata": {},
   "outputs": [
    {
     "data": {
      "text/html": [
       "<div>\n",
       "<style scoped>\n",
       "    .dataframe tbody tr th:only-of-type {\n",
       "        vertical-align: middle;\n",
       "    }\n",
       "\n",
       "    .dataframe tbody tr th {\n",
       "        vertical-align: top;\n",
       "    }\n",
       "\n",
       "    .dataframe thead th {\n",
       "        text-align: right;\n",
       "    }\n",
       "</style>\n",
       "<table border=\"1\" class=\"dataframe\">\n",
       "  <thead>\n",
       "    <tr style=\"text-align: right;\">\n",
       "      <th></th>\n",
       "      <th>0</th>\n",
       "    </tr>\n",
       "  </thead>\n",
       "  <tbody>\n",
       "    <tr>\n",
       "      <th>SQBmeaned</th>\n",
       "      <td>5</td>\n",
       "    </tr>\n",
       "    <tr>\n",
       "      <th>meaneduc</th>\n",
       "      <td>5</td>\n",
       "    </tr>\n",
       "    <tr>\n",
       "      <th>Id</th>\n",
       "      <td>0</td>\n",
       "    </tr>\n",
       "    <tr>\n",
       "      <th>hogar_mayor</th>\n",
       "      <td>0</td>\n",
       "    </tr>\n",
       "    <tr>\n",
       "      <th>parentesco10</th>\n",
       "      <td>0</td>\n",
       "    </tr>\n",
       "    <tr>\n",
       "      <th>parentesco11</th>\n",
       "      <td>0</td>\n",
       "    </tr>\n",
       "    <tr>\n",
       "      <th>parentesco12</th>\n",
       "      <td>0</td>\n",
       "    </tr>\n",
       "    <tr>\n",
       "      <th>idhogar</th>\n",
       "      <td>0</td>\n",
       "    </tr>\n",
       "    <tr>\n",
       "      <th>hogar_nin</th>\n",
       "      <td>0</td>\n",
       "    </tr>\n",
       "    <tr>\n",
       "      <th>hogar_adul</th>\n",
       "      <td>0</td>\n",
       "    </tr>\n",
       "    <tr>\n",
       "      <th>hogar_total</th>\n",
       "      <td>0</td>\n",
       "    </tr>\n",
       "    <tr>\n",
       "      <th>parentesco8</th>\n",
       "      <td>0</td>\n",
       "    </tr>\n",
       "    <tr>\n",
       "      <th>dependency</th>\n",
       "      <td>0</td>\n",
       "    </tr>\n",
       "    <tr>\n",
       "      <th>edjefe</th>\n",
       "      <td>0</td>\n",
       "    </tr>\n",
       "    <tr>\n",
       "      <th>edjefa</th>\n",
       "      <td>0</td>\n",
       "    </tr>\n",
       "    <tr>\n",
       "      <th>instlevel1</th>\n",
       "      <td>0</td>\n",
       "    </tr>\n",
       "    <tr>\n",
       "      <th>instlevel2</th>\n",
       "      <td>0</td>\n",
       "    </tr>\n",
       "    <tr>\n",
       "      <th>parentesco9</th>\n",
       "      <td>0</td>\n",
       "    </tr>\n",
       "    <tr>\n",
       "      <th>parentesco7</th>\n",
       "      <td>0</td>\n",
       "    </tr>\n",
       "    <tr>\n",
       "      <th>instlevel4</th>\n",
       "      <td>0</td>\n",
       "    </tr>\n",
       "    <tr>\n",
       "      <th>estadocivil5</th>\n",
       "      <td>0</td>\n",
       "    </tr>\n",
       "    <tr>\n",
       "      <th>male</th>\n",
       "      <td>0</td>\n",
       "    </tr>\n",
       "    <tr>\n",
       "      <th>female</th>\n",
       "      <td>0</td>\n",
       "    </tr>\n",
       "    <tr>\n",
       "      <th>estadocivil1</th>\n",
       "      <td>0</td>\n",
       "    </tr>\n",
       "    <tr>\n",
       "      <th>estadocivil2</th>\n",
       "      <td>0</td>\n",
       "    </tr>\n",
       "    <tr>\n",
       "      <th>estadocivil3</th>\n",
       "      <td>0</td>\n",
       "    </tr>\n",
       "    <tr>\n",
       "      <th>estadocivil4</th>\n",
       "      <td>0</td>\n",
       "    </tr>\n",
       "    <tr>\n",
       "      <th>estadocivil6</th>\n",
       "      <td>0</td>\n",
       "    </tr>\n",
       "    <tr>\n",
       "      <th>parentesco6</th>\n",
       "      <td>0</td>\n",
       "    </tr>\n",
       "    <tr>\n",
       "      <th>estadocivil7</th>\n",
       "      <td>0</td>\n",
       "    </tr>\n",
       "    <tr>\n",
       "      <th>...</th>\n",
       "      <td>...</td>\n",
       "    </tr>\n",
       "    <tr>\n",
       "      <th>elimbasu2</th>\n",
       "      <td>0</td>\n",
       "    </tr>\n",
       "    <tr>\n",
       "      <th>elimbasu3</th>\n",
       "      <td>0</td>\n",
       "    </tr>\n",
       "    <tr>\n",
       "      <th>elimbasu4</th>\n",
       "      <td>0</td>\n",
       "    </tr>\n",
       "    <tr>\n",
       "      <th>elimbasu6</th>\n",
       "      <td>0</td>\n",
       "    </tr>\n",
       "    <tr>\n",
       "      <th>energcocinar1</th>\n",
       "      <td>0</td>\n",
       "    </tr>\n",
       "    <tr>\n",
       "      <th>epared1</th>\n",
       "      <td>0</td>\n",
       "    </tr>\n",
       "    <tr>\n",
       "      <th>epared2</th>\n",
       "      <td>0</td>\n",
       "    </tr>\n",
       "    <tr>\n",
       "      <th>epared3</th>\n",
       "      <td>0</td>\n",
       "    </tr>\n",
       "    <tr>\n",
       "      <th>etecho1</th>\n",
       "      <td>0</td>\n",
       "    </tr>\n",
       "    <tr>\n",
       "      <th>etecho2</th>\n",
       "      <td>0</td>\n",
       "    </tr>\n",
       "    <tr>\n",
       "      <th>etecho3</th>\n",
       "      <td>0</td>\n",
       "    </tr>\n",
       "    <tr>\n",
       "      <th>energcocinar2</th>\n",
       "      <td>0</td>\n",
       "    </tr>\n",
       "    <tr>\n",
       "      <th>sanitario6</th>\n",
       "      <td>0</td>\n",
       "    </tr>\n",
       "    <tr>\n",
       "      <th>techozinc</th>\n",
       "      <td>0</td>\n",
       "    </tr>\n",
       "    <tr>\n",
       "      <th>abastaguano</th>\n",
       "      <td>0</td>\n",
       "    </tr>\n",
       "    <tr>\n",
       "      <th>techoentrepiso</th>\n",
       "      <td>0</td>\n",
       "    </tr>\n",
       "    <tr>\n",
       "      <th>techocane</th>\n",
       "      <td>0</td>\n",
       "    </tr>\n",
       "    <tr>\n",
       "      <th>techootro</th>\n",
       "      <td>0</td>\n",
       "    </tr>\n",
       "    <tr>\n",
       "      <th>cielorazo</th>\n",
       "      <td>0</td>\n",
       "    </tr>\n",
       "    <tr>\n",
       "      <th>abastaguadentro</th>\n",
       "      <td>0</td>\n",
       "    </tr>\n",
       "    <tr>\n",
       "      <th>abastaguafuera</th>\n",
       "      <td>0</td>\n",
       "    </tr>\n",
       "    <tr>\n",
       "      <th>public</th>\n",
       "      <td>0</td>\n",
       "    </tr>\n",
       "    <tr>\n",
       "      <th>sanitario5</th>\n",
       "      <td>0</td>\n",
       "    </tr>\n",
       "    <tr>\n",
       "      <th>planpri</th>\n",
       "      <td>0</td>\n",
       "    </tr>\n",
       "    <tr>\n",
       "      <th>noelec</th>\n",
       "      <td>0</td>\n",
       "    </tr>\n",
       "    <tr>\n",
       "      <th>coopele</th>\n",
       "      <td>0</td>\n",
       "    </tr>\n",
       "    <tr>\n",
       "      <th>sanitario1</th>\n",
       "      <td>0</td>\n",
       "    </tr>\n",
       "    <tr>\n",
       "      <th>sanitario2</th>\n",
       "      <td>0</td>\n",
       "    </tr>\n",
       "    <tr>\n",
       "      <th>sanitario3</th>\n",
       "      <td>0</td>\n",
       "    </tr>\n",
       "    <tr>\n",
       "      <th>Target</th>\n",
       "      <td>0</td>\n",
       "    </tr>\n",
       "  </tbody>\n",
       "</table>\n",
       "<p>143 rows × 1 columns</p>\n",
       "</div>"
      ],
      "text/plain": [
       "                 0\n",
       "SQBmeaned        5\n",
       "meaneduc         5\n",
       "Id               0\n",
       "hogar_mayor      0\n",
       "parentesco10     0\n",
       "parentesco11     0\n",
       "parentesco12     0\n",
       "idhogar          0\n",
       "hogar_nin        0\n",
       "hogar_adul       0\n",
       "hogar_total      0\n",
       "parentesco8      0\n",
       "dependency       0\n",
       "edjefe           0\n",
       "edjefa           0\n",
       "instlevel1       0\n",
       "instlevel2       0\n",
       "parentesco9      0\n",
       "parentesco7      0\n",
       "instlevel4       0\n",
       "estadocivil5     0\n",
       "male             0\n",
       "female           0\n",
       "estadocivil1     0\n",
       "estadocivil2     0\n",
       "estadocivil3     0\n",
       "estadocivil4     0\n",
       "estadocivil6     0\n",
       "parentesco6      0\n",
       "estadocivil7     0\n",
       "...             ..\n",
       "elimbasu2        0\n",
       "elimbasu3        0\n",
       "elimbasu4        0\n",
       "elimbasu6        0\n",
       "energcocinar1    0\n",
       "epared1          0\n",
       "epared2          0\n",
       "epared3          0\n",
       "etecho1          0\n",
       "etecho2          0\n",
       "etecho3          0\n",
       "energcocinar2    0\n",
       "sanitario6       0\n",
       "techozinc        0\n",
       "abastaguano      0\n",
       "techoentrepiso   0\n",
       "techocane        0\n",
       "techootro        0\n",
       "cielorazo        0\n",
       "abastaguadentro  0\n",
       "abastaguafuera   0\n",
       "public           0\n",
       "sanitario5       0\n",
       "planpri          0\n",
       "noelec           0\n",
       "coopele          0\n",
       "sanitario1       0\n",
       "sanitario2       0\n",
       "sanitario3       0\n",
       "Target           0\n",
       "\n",
       "[143 rows x 1 columns]"
      ]
     },
     "execution_count": 117,
     "metadata": {},
     "output_type": "execute_result"
    }
   ],
   "source": [
    "#Let's check on remaining missing values\n",
    "missing_df=train.isnull().sum().to_frame().sort_values(0,ascending=False)\n",
    "missing_df"
   ]
  },
  {
   "cell_type": "code",
   "execution_count": 28,
   "metadata": {},
   "outputs": [],
   "source": [
    "#Thus only two Columns are left with Missing Values. We replace missing values with mean of remaining data\n",
    "train.fillna(train.mean(),inplace=True)\n"
   ]
  },
  {
   "cell_type": "code",
   "execution_count": 29,
   "metadata": {},
   "outputs": [
    {
     "data": {
      "text/plain": [
       "0    143\n",
       "dtype: int64"
      ]
     },
     "execution_count": 29,
     "metadata": {},
     "output_type": "execute_result"
    }
   ],
   "source": [
    "train.isnull().sum().value_counts()"
   ]
  },
  {
   "cell_type": "code",
   "execution_count": 30,
   "metadata": {},
   "outputs": [
    {
     "data": {
      "text/plain": [
       "0    143\n",
       "dtype: int64"
      ]
     },
     "execution_count": 30,
     "metadata": {},
     "output_type": "execute_result"
    }
   ],
   "source": [
    "train.isna().sum().value_counts()"
   ]
  },
  {
   "cell_type": "markdown",
   "metadata": {},
   "source": [
    "Since, now no cloumn has null value left. Data Has been cleaned. Now, we need to look at Data Spread and remove outliers if any"
   ]
  },
  {
   "cell_type": "markdown",
   "metadata": {},
   "source": [
    "# Removing Outliers"
   ]
  },
  {
   "cell_type": "code",
   "execution_count": null,
   "metadata": {},
   "outputs": [],
   "source": []
  },
  {
   "cell_type": "code",
   "execution_count": 31,
   "metadata": {},
   "outputs": [],
   "source": [
    "Column_names={'v2a1':'Monthly rent payment',\n",
    "'hacdor' :'Overcrowding by bedrooms',\n",
    "'rooms':'number of all rooms in the house',\n",
    "'hacapo':'Overcrowding by rooms',\n",
    "'v14a':'1 has bathroom in the household',\n",
    "'refrig' :'1 if the household has refrigerator',\n",
    "'v18q':'owns a tablet',\n",
    "'v18q1': 'number of tablets household owns',\n",
    "'r4h1': 'Males younger than 12 years of age',\n",
    "'r4h2': 'Males 12 years of age and older',\n",
    "'r4h3': 'Total males in the household',\n",
    "'r4m1': 'Females younger than 12 years of age',\n",
    "'r4m2': 'Females 12 years of age and older',\n",
    "'r4m3': 'Total females in the household',\n",
    "'r4t1': 'persons younger than 12 years of age',\n",
    "'r4t2': 'persons 12 years of age and older',\n",
    "'r4t3': 'Total persons in the household',\n",
    "'tamhog': 'size of the household',\n",
    "'tamviv': 'number of persons living in the household',\n",
    "'escolari': 'years of schooling',\n",
    "'rez_esc':'Years behind in school',\n",
    "'hhsize': 'household size',\n",
    "'paredblolad': '=1 if predominant material on the outside wall is block or brick',\n",
    "'paredzocalo':\"=1 if predominant material on the outside wall is socket (wood,  zinc or absbesto\",\n",
    "'paredpreb': '=1 if predominant material on the outside wall is prefabricated or cement',\n",
    "'pareddes': '=1 if predominant material on the outside wall is waste material',\n",
    "'paredmad': '=1 if predominant material on the outside wall is wood',\n",
    "'paredzinc': '=1 if predominant material on the outside wall is zink',\n",
    "'paredfibras': '=1 if predominant material on the outside wall is natural fibers',\n",
    "'paredother': '=1 if predominant material on the outside wall is other',\n",
    "'pisomoscer': \"=1 if predominant material on the floor is mosaic,  ceramic,  terrazo\",\n",
    "'pisocemento': '=1 if predominant material on the floor is cement',\n",
    "'pisoother': '=1 if predominant material on the floor is other',\n",
    "'pisonatur': '=1 if predominant material on the floor is  natural material',\n",
    "'pisonotiene': '=1 if no floor at the household',\n",
    "'pisomadera': '=1 if predominant material on the floor is wood',\n",
    "'techozinc': '=1 if predominant material on the roof is metal foil or zink',\n",
    "'techoentrepiso': \"=1 if predominant material on the roof is fiber cement,  mezzanine \",\n",
    "'techocane': '=1 if predominant material on the roof is natural fibers',\n",
    "'techootro': '=1 if predominant material on the roof is other',\n",
    "'cielorazo': '=1 if the house has ceiling',\n",
    "'abastaguadentro': '=1 if water provision inside the dwelling',\n",
    "'abastaguafuera':'=1 if water provision outside the dwelling',\n",
    "'abastaguano':'=1 if no water provision',\n",
    "'public':\"=1 electricity from CNFL,  ICE,  ESPH/JASEC\",\n",
    "'planpri':'1 electricity from private plant',\n",
    "'noelec':'=1 no electricity in the dwelling',\n",
    "'coopele':'=1 electricity from cooperative',\n",
    "'sanitario1':'=1 no toilet in the dwelling',\n",
    "'sanitario2':'=1 toilet connected to sewer or cesspool',\n",
    "'sanitario3':'=1 toilet connected to  septic tank',\n",
    "'sanitario5': '=1 toilet connected to black hole or letrine',\n",
    "'sanitario6':'=1 toilet connected to other system',\n",
    "'energcocinar1':'=1 no main source of energy used for cooking (no kitchen)',\n",
    "'energcocinar2':'=1 main source of energy used for cooking electricity',\n",
    "'energcocinar3':' main source of energy used for cooking gas',\n",
    "'energcocinar4':'=1 main source of energy used for cooking wood charcoal',\n",
    "'elimbasu1':'=1 if rubbish disposal mainly by tanker truck',\n",
    "'elimbasu2':'=1 if rubbish disposal mainly by botan hollow or buried',\n",
    "'elimbasu3':'=1 if rubbish disposal mainly by burning',\n",
    "'elimbasu4':'=1 if rubbish disposal mainly by throwing in an unoccupied space',\n",
    "'elimbasu5':\"=1 if rubbish disposal mainly by throwing in river,  creek or sea\",\n",
    "'elimbasu6':'=1 if rubbish disposal mainly other',\n",
    "'epared1':'=1 if walls are bad',\n",
    "'epared2':'=1 if walls are regular',\n",
    "'epared3':'=1 if walls are good',\n",
    "'etecho1':'=1 if roof are bad',\n",
    "'etecho2':'=1 if roof are regular',\n",
    "'etecho3':'=1 if roof are good',\n",
    "'eviv1':'=1 if floor are bad',\n",
    "'eviv2':'=1 if floor are regular',\n",
    "'eviv3':'=1 if floor are good',\n",
    "'dis':'=1 if disable person',\n",
    "'male':'=1 if male',\n",
    "'female':'=1 if female',\n",
    "'estadocivil1':'=1 if less than 10 years old',\n",
    "'estadocivil2':'=1 if free or coupled uunion',\n",
    "'estadocivil3':'=1 if married',\n",
    "'estadocivil4':'=1 if divorced',\n",
    "'estadocivil5':'=1 if separated',\n",
    "'estadocivil6':'=1 if widow/er',\n",
    "'estadocivil7':'=1 if single',\n",
    "'parentesco1':'=1 if household head',\n",
    "'parentesco2':'=1 if spouse/partner',\n",
    "'parentesco3':'=1 if son/doughter',\n",
    "'parentesco4':'=1 if stepson/doughter',\n",
    "'parentesco5':'=1 if son/doughter in law',\n",
    "'parentesco6':'=1 if grandson/doughter',\n",
    "'parentesco7':'=1 if mother/father',\n",
    "'parentesco8':'=1 if father/mother in law',\n",
    "'parentesco9' :'=1 if brother/sister',\n",
    "'parentesco10':'=1 if brother/sister in law',\n",
    "'parentesco11':'=1 if other family member',\n",
    "'parentesco12':'=1 if other non family member',\n",
    "'idhogar':'Household level identifier',\n",
    "'hogar_nin': 'Number of children 0 to 19 in household',\n",
    "'hogar_adul': 'Number of adults in household',\n",
    "'hogar_mayor':'# of individuals 65+ in the household',\n",
    "'hogar_total':'# of total individuals in the household',\n",
    "'dependency':'Dependency,Depencdency rate calculated',\n",
    "'edjefe':'years of education of male head of household',\n",
    "'edjefa':'years of education of female head of household',\n",
    "'meaneduc':'average years of education for adults (18+)',\n",
    "'instlevel1':'=1 no level of education',\n",
    "'instlevel2':'=1 incomplete primary',\n",
    "'instlevel3':'=1 complete primary',\n",
    "'instlevel4':'=1 incomplete academic secondary level',\n",
    "'instlevel5':'=1 complete academic secondary level',\n",
    "'instlevel6':'=1 incomplete technical secondary level',\n",
    "'instlevel7':'=1 complete technical secondary level',\n",
    "'instlevel8':'=1 undergraduate and higher education',\n",
    "'instlevel9':'=1 postgraduate higher education',\n",
    "'bedrooms':'number of bedrooms',\n",
    "'overcrowding':'# persons per room',\n",
    "'tipovivi1':'=1 own and fully paid house',\n",
    "'tipovivi2':\"=1 own,  paying in installments\",\n",
    "'tipovivi3':'=1 rented',\n",
    "'tipovivi4' :'1 precarious',\n",
    "'tipovivi5':\"=1 other(assigned,  borrowed)\",\n",
    "'computer':'=1 if the household has notebook or desktop computer',\n",
    "'television':'=1 if the household has TV',\n",
    "'mobilephone':'1 if mobile phone',\n",
    "'qmobilephone':'# of mobile phones',\n",
    "'lugar1':'=1 region Central',\n",
    "'lugar2':'=1 region Chorotega',\n",
    "'lugar3':'=1 region PacÃƒÂ¬fico central',\n",
    "'lugar4':'=1 region Brunca',\n",
    "'lugar5':'=1 region Huetar AtlÃƒÂ¡ntica',\n",
    "'lugar6':'=1 region Huetar Norte',\n",
    "'area1':'=1 zona urbana',\n",
    "'area2':'=2 zona rural',\n",
    "'age':'Age in years',\n",
    "'SQBescolari':'escolari squared',\n",
    "'SQBage':'age squared',\n",
    "'SQBhogar_total':'hogar_total squared',\n",
    "'SQBedjefe':'edjefe squared',\n",
    "'SQBhogar_nin':'hogar_nin squared',\n",
    "'SQBovercrowding':'overcrowding squared',\n",
    "'SQBdependency':'dependency squared',\n",
    "'SQBmeaned':' square of the mean years of education of adults (>=18) in the household',\n",
    "'agesq':'Age squared'\n",
    "}"
   ]
  },
  {
   "cell_type": "markdown",
   "metadata": {},
   "source": [
    "# Calculating Correlation between Variables"
   ]
  },
  {
   "cell_type": "code",
   "execution_count": 32,
   "metadata": {},
   "outputs": [
    {
     "data": {
      "text/plain": [
       "planpri            0.000545\n",
       "paredother         0.000629\n",
       "coopele            0.002270\n",
       "estadocivil6       0.003372\n",
       "estadocivil7       0.004585\n",
       "hogar_mayor        0.005159\n",
       "instlevel6         0.006014\n",
       "parentesco7        0.006216\n",
       "tipovivi1          0.007435\n",
       "tipovivi3          0.008393\n",
       "parentesco8        0.008562\n",
       "public             0.009074\n",
       "parentesco10       0.010990\n",
       "parentesco9        0.012318\n",
       "sanitario6         0.012954\n",
       "parentesco12       0.014421\n",
       "instlevel4         0.014759\n",
       "parentesco5        0.016534\n",
       "lugar2             0.018523\n",
       "parentesco11       0.019076\n",
       "techoentrepiso     0.019592\n",
       "parentesco4        0.020887\n",
       "pisoother          0.021219\n",
       "instlevel3         0.021986\n",
       "elimbasu6          0.024506\n",
       "techozinc          0.027652\n",
       "paredfibras        0.027730\n",
       "estadocivil2       0.029669\n",
       "techootro          0.032433\n",
       "noelec             0.033974\n",
       "                     ...   \n",
       "hacdor             0.191714\n",
       "qmobilephone       0.199707\n",
       "v18q1              0.201754\n",
       "epared1            0.203025\n",
       "pisocemento        0.205439\n",
       "eviv1              0.208038\n",
       "instlevel8         0.214351\n",
       "rooms              0.226208\n",
       "r4h1               0.229889\n",
       "v18q               0.238864\n",
       "edjefe             0.243215\n",
       "SQBedjefe          0.246368\n",
       "r4m1               0.253163\n",
       "etecho3            0.257378\n",
       "SQBovercrowding    0.258744\n",
       "paredblolad        0.261274\n",
       "SQBmeaned          0.276586\n",
       "pisomoscer         0.280284\n",
       "overcrowding       0.289110\n",
       "epared3            0.292451\n",
       "eviv3              0.294222\n",
       "SQBescolari        0.296577\n",
       "escolari           0.302305\n",
       "cielorazo          0.304421\n",
       "SQBhogar_nin       0.311186\n",
       "r4t1               0.316745\n",
       "hogar_nin          0.328199\n",
       "meaneduc           0.335161\n",
       "Target             1.000000\n",
       "elimbasu5               NaN\n",
       "Name: Target, Length: 140, dtype: float64"
      ]
     },
     "execution_count": 32,
     "metadata": {},
     "output_type": "execute_result"
    }
   ],
   "source": [
    "train_corr=train.corr()['Target'].abs().sort_values()\n",
    "train_corr\n",
    "print('Correlations between Target and Household Variables')"
   ]
  },
  {
   "cell_type": "markdown",
   "metadata": {},
   "source": [
    "We can see that Correlation between income level groups and household indicators are less. Hence, no direct relation can be established. We now have to build up identification model on basis of best correlated variables"
   ]
  },
  {
   "cell_type": "code",
   "execution_count": 38,
   "metadata": {},
   "outputs": [],
   "source": [
    "best_corr=train_corr.tail(30)"
   ]
  },
  {
   "cell_type": "code",
   "execution_count": 52,
   "metadata": {},
   "outputs": [
    {
     "data": {
      "text/plain": [
       "Index(['hacdor', 'qmobilephone', 'v18q1', 'epared1', 'pisocemento', 'eviv1',\n",
       "       'instlevel8', 'rooms', 'r4h1', 'v18q', 'edjefe', 'SQBedjefe', 'r4m1',\n",
       "       'etecho3', 'SQBovercrowding', 'paredblolad', 'SQBmeaned', 'pisomoscer',\n",
       "       'overcrowding', 'epared3', 'eviv3', 'SQBescolari', 'escolari',\n",
       "       'cielorazo', 'SQBhogar_nin', 'r4t1', 'hogar_nin', 'meaneduc', 'Target',\n",
       "       'elimbasu5'],\n",
       "      dtype='object')"
      ]
     },
     "execution_count": 52,
     "metadata": {},
     "output_type": "execute_result"
    }
   ],
   "source": [
    "best_corr=best_corr.index\n",
    "best_corr"
   ]
  },
  {
   "cell_type": "code",
   "execution_count": 54,
   "metadata": {},
   "outputs": [
    {
     "data": {
      "image/png": "[encoded data removed]",
      "text/plain": [
       "<Figure size 432x288 with 1 Axes>"
      ]
     },
     "metadata": {
      "needs_background": "light"
     },
     "output_type": "display_data"
    },
    {
     "data": {
      "image/png": "[encoded data removed]",
      "text/plain": [
       "<Figure size 432x288 with 1 Axes>"
      ]
     },
     "metadata": {
      "needs_background": "light"
     },
     "output_type": "display_data"
    },
    {
     "data": {
      "image/png": "[encoded data removed]",
      "text/plain": [
       "<Figure size 432x288 with 1 Axes>"
      ]
     },
     "metadata": {
      "needs_background": "light"
     },
     "output_type": "display_data"
    },
    {
     "data": {
      "image/png": "[encoded data removed]",
      "text/plain": [
       "<Figure size 432x288 with 1 Axes>"
      ]
     },
     "metadata": {
      "needs_background": "light"
     },
     "output_type": "display_data"
    },
    {
     "data": {
      "image/png": "[encoded data removed]",
      "text/plain": [
       "<Figure size 432x288 with 1 Axes>"
      ]
     },
     "metadata": {
      "needs_background": "light"
     },
     "output_type": "display_data"
    },
    {
     "data": {
      "image/png": "[encoded data removed]",
      "text/plain": [
       "<Figure size 432x288 with 1 Axes>"
      ]
     },
     "metadata": {
      "needs_background": "light"
     },
     "output_type": "display_data"
    },
    {
     "data": {
      "image/png": "[encoded data removed]",
      "text/plain": [
       "<Figure size 432x288 with 1 Axes>"
      ]
     },
     "metadata": {
      "needs_background": "light"
     },
     "output_type": "display_data"
    },
    {
     "data": {
      "image/png": "[encoded data removed]",
      "text/plain": [
       "<Figure size 432x288 with 1 Axes>"
      ]
     },
     "metadata": {
      "needs_background": "light"
     },
     "output_type": "display_data"
    },
    {
     "data": {
      "image/png": "[encoded data removed]",
      "text/plain": [
       "<Figure size 432x288 with 1 Axes>"
      ]
     },
     "metadata": {
      "needs_background": "light"
     },
     "output_type": "display_data"
    },
    {
     "data": {
      "image/png": "[encoded data removed]",
      "text/plain": [
       "<Figure size 432x288 with 1 Axes>"
      ]
     },
     "metadata": {
      "needs_background": "light"
     },
     "output_type": "display_data"
    },
    {
     "data": {
      "image/png": "[encoded data removed]",
      "text/plain": [
       "<Figure size 432x288 with 1 Axes>"
      ]
     },
     "metadata": {
      "needs_background": "light"
     },
     "output_type": "display_data"
    },
    {
     "data": {
      "image/png": "[encoded data removed]",
      "text/plain": [
       "<Figure size 432x288 with 1 Axes>"
      ]
     },
     "metadata": {
      "needs_background": "light"
     },
     "output_type": "display_data"
    },
    {
     "data": {
      "image/png": "[encoded data removed]",
      "text/plain": [
       "<Figure size 432x288 with 1 Axes>"
      ]
     },
     "metadata": {
      "needs_background": "light"
     },
     "output_type": "display_data"
    },
    {
     "data": {
      "image/png": "[encoded data removed]",
      "text/plain": [
       "<Figure size 432x288 with 1 Axes>"
      ]
     },
     "metadata": {
      "needs_background": "light"
     },
     "output_type": "display_data"
    },
    {
     "data": {
      "image/png": "[encoded data removed]",
      "text/plain": [
       "<Figure size 432x288 with 1 Axes>"
      ]
     },
     "metadata": {
      "needs_background": "light"
     },
     "output_type": "display_data"
    },
    {
     "data": {
      "image/png": "[encoded data removed]",
      "text/plain": [
       "<Figure size 432x288 with 1 Axes>"
      ]
     },
     "metadata": {
      "needs_background": "light"
     },
     "output_type": "display_data"
    },
    {
     "data": {
      "image/png": "[encoded data removed]",
      "text/plain": [
       "<Figure size 432x288 with 1 Axes>"
      ]
     },
     "metadata": {
      "needs_background": "light"
     },
     "output_type": "display_data"
    },
    {
     "data": {
      "image/png": "[encoded data removed]",
      "text/plain": [
       "<Figure size 432x288 with 1 Axes>"
      ]
     },
     "metadata": {
      "needs_background": "light"
     },
     "output_type": "display_data"
    },
    {
     "data": {
      "image/png": "[encoded data removed]",
      "text/plain": [
       "<Figure size 432x288 with 1 Axes>"
      ]
     },
     "metadata": {
      "needs_background": "light"
     },
     "output_type": "display_data"
    },
    {
     "data": {
      "image/png": "[encoded data removed]",
      "text/plain": [
       "<Figure size 432x288 with 1 Axes>"
      ]
     },
     "metadata": {
      "needs_background": "light"
     },
     "output_type": "display_data"
    },
    {
     "data": {
      "image/png": "[encoded data removed]",
      "text/plain": [
       "<Figure size 432x288 with 1 Axes>"
      ]
     },
     "metadata": {
      "needs_background": "light"
     },
     "output_type": "display_data"
    },
    {
     "data": {
      "image/png": "[encoded data removed]",
      "text/plain": [
       "<Figure size 432x288 with 1 Axes>"
      ]
     },
     "metadata": {
      "needs_background": "light"
     },
     "output_type": "display_data"
    },
    {
     "data": {
      "image/png": "[encoded data removed]",
      "text/plain": [
       "<Figure size 432x288 with 1 Axes>"
      ]
     },
     "metadata": {
      "needs_background": "light"
     },
     "output_type": "display_data"
    },
    {
     "data": {
      "image/png": "[encoded data removed]",
      "text/plain": [
       "<Figure size 432x288 with 1 Axes>"
      ]
     },
     "metadata": {
      "needs_background": "light"
     },
     "output_type": "display_data"
    },
    {
     "data": {
      "image/png": "[encoded data removed]",
      "text/plain": [
       "<Figure size 432x288 with 1 Axes>"
      ]
     },
     "metadata": {
      "needs_background": "light"
     },
     "output_type": "display_data"
    },
    {
     "data": {
      "image/png": "[encoded data removed]",
      "text/plain": [
       "<Figure size 432x288 with 1 Axes>"
      ]
     },
     "metadata": {
      "needs_background": "light"
     },
     "output_type": "display_data"
    },
    {
     "data": {
      "image/png": "[encoded data removed]",
      "text/plain": [
       "<Figure size 432x288 with 1 Axes>"
      ]
     },
     "metadata": {
      "needs_background": "light"
     },
     "output_type": "display_data"
    },
    {
     "data": {
      "image/png": "[encoded data removed]",
      "text/plain": [
       "<Figure size 432x288 with 1 Axes>"
      ]
     },
     "metadata": {
      "needs_background": "light"
     },
     "output_type": "display_data"
    },
    {
     "data": {
      "image/png": "[encoded data removed]",
      "text/plain": [
       "<Figure size 432x288 with 1 Axes>"
      ]
     },
     "metadata": {
      "needs_background": "light"
     },
     "output_type": "display_data"
    },
    {
     "data": {
      "image/png": "[encoded data removed]",
      "text/plain": [
       "<Figure size 432x288 with 1 Axes>"
      ]
     },
     "metadata": {
      "needs_background": "light"
     },
     "output_type": "display_data"
    },
    {
     "data": {
      "image/png": "[encoded data removed]",
      "text/plain": [
       "<Figure size 432x288 with 1 Axes>"
      ]
     },
     "metadata": {
      "needs_background": "light"
     },
     "output_type": "display_data"
    },
    {
     "data": {
      "image/png": "[encoded data removed]",
      "text/plain": [
       "<Figure size 432x288 with 1 Axes>"
      ]
     },
     "metadata": {
      "needs_background": "light"
     },
     "output_type": "display_data"
    },
    {
     "data": {
      "image/png": "[encoded data removed]",
      "text/plain": [
       "<Figure size 432x288 with 1 Axes>"
      ]
     },
     "metadata": {
      "needs_background": "light"
     },
     "output_type": "display_data"
    },
    {
     "data": {
      "image/png": "[encoded data removed]",
      "text/plain": [
       "<Figure size 432x288 with 1 Axes>"
      ]
     },
     "metadata": {
      "needs_background": "light"
     },
     "output_type": "display_data"
    }
   ],
   "source": [
    "for i in best_corr:\n",
    "    if len(train[i].unique())>2:\n",
    "        sea.boxplot(train[i])\n",
    "        plt.xlabel(Column_names.get(i))\n",
    "        plt.show()\n",
    "        sea.distplot(train[i])\n",
    "        plt.xlabel(Column_names.get(i))\n",
    "        plt.show()\n",
    "        \n",
    "    "
   ]
  },
  {
   "cell_type": "code",
   "execution_count": 70,
   "metadata": {},
   "outputs": [],
   "source": [
    "to_drop=train.loc[(train['r4h1']>2)|(train['SQBedjefe']>900)|(train['r4m1']>3)|(train['SQBovercrowding']>25)|\n",
    "                  (train['SQBmeaned']>900)|(train['overcrowding']>5)|(train['SQBescolari']>300)|(train['SQBhogar_nin']>70)|\n",
    "                  (train['r4t1']>5)|(train['hogar_nin']>6)|(train['meaneduc']>25)].index"
   ]
  },
  {
   "cell_type": "code",
   "execution_count": 71,
   "metadata": {},
   "outputs": [
    {
     "data": {
      "text/plain": [
       "236"
      ]
     },
     "execution_count": 71,
     "metadata": {},
     "output_type": "execute_result"
    }
   ],
   "source": [
    "len(to_drop)"
   ]
  },
  {
   "cell_type": "code",
   "execution_count": 72,
   "metadata": {},
   "outputs": [
    {
     "data": {
      "text/html": [
       "<div>\n",
       "<style scoped>\n",
       "    .dataframe tbody tr th:only-of-type {\n",
       "        vertical-align: middle;\n",
       "    }\n",
       "\n",
       "    .dataframe tbody tr th {\n",
       "        vertical-align: top;\n",
       "    }\n",
       "\n",
       "    .dataframe thead th {\n",
       "        text-align: right;\n",
       "    }\n",
       "</style>\n",
       "<table border=\"1\" class=\"dataframe\">\n",
       "  <thead>\n",
       "    <tr style=\"text-align: right;\">\n",
       "      <th></th>\n",
       "      <th>v2a1</th>\n",
       "      <th>hacdor</th>\n",
       "      <th>rooms</th>\n",
       "      <th>hacapo</th>\n",
       "      <th>v14a</th>\n",
       "      <th>refrig</th>\n",
       "      <th>v18q</th>\n",
       "      <th>v18q1</th>\n",
       "      <th>r4h1</th>\n",
       "      <th>r4h2</th>\n",
       "      <th>...</th>\n",
       "      <th>age</th>\n",
       "      <th>SQBescolari</th>\n",
       "      <th>SQBage</th>\n",
       "      <th>SQBhogar_total</th>\n",
       "      <th>SQBedjefe</th>\n",
       "      <th>SQBhogar_nin</th>\n",
       "      <th>SQBovercrowding</th>\n",
       "      <th>SQBdependency</th>\n",
       "      <th>SQBmeaned</th>\n",
       "      <th>agesq</th>\n",
       "    </tr>\n",
       "    <tr>\n",
       "      <th>Target</th>\n",
       "      <th></th>\n",
       "      <th></th>\n",
       "      <th></th>\n",
       "      <th></th>\n",
       "      <th></th>\n",
       "      <th></th>\n",
       "      <th></th>\n",
       "      <th></th>\n",
       "      <th></th>\n",
       "      <th></th>\n",
       "      <th></th>\n",
       "      <th></th>\n",
       "      <th></th>\n",
       "      <th></th>\n",
       "      <th></th>\n",
       "      <th></th>\n",
       "      <th></th>\n",
       "      <th></th>\n",
       "      <th></th>\n",
       "      <th></th>\n",
       "      <th></th>\n",
       "    </tr>\n",
       "  </thead>\n",
       "  <tbody>\n",
       "    <tr>\n",
       "      <th>1</th>\n",
       "      <td>17185.945695</td>\n",
       "      <td>0.147020</td>\n",
       "      <td>4.327152</td>\n",
       "      <td>0.075497</td>\n",
       "      <td>0.988079</td>\n",
       "      <td>0.887417</td>\n",
       "      <td>0.079470</td>\n",
       "      <td>0.137748</td>\n",
       "      <td>0.796026</td>\n",
       "      <td>1.160265</td>\n",
       "      <td>...</td>\n",
       "      <td>28.435762</td>\n",
       "      <td>37.505960</td>\n",
       "      <td>1293.280795</td>\n",
       "      <td>24.860927</td>\n",
       "      <td>17.030464</td>\n",
       "      <td>9.156291</td>\n",
       "      <td>5.264670</td>\n",
       "      <td>5.664459</td>\n",
       "      <td>61.361065</td>\n",
       "      <td>1293.280795</td>\n",
       "    </tr>\n",
       "    <tr>\n",
       "      <th>2</th>\n",
       "      <td>20472.204759</td>\n",
       "      <td>0.067627</td>\n",
       "      <td>4.483406</td>\n",
       "      <td>0.047589</td>\n",
       "      <td>0.986850</td>\n",
       "      <td>0.928616</td>\n",
       "      <td>0.078272</td>\n",
       "      <td>0.099562</td>\n",
       "      <td>0.560426</td>\n",
       "      <td>1.474640</td>\n",
       "      <td>...</td>\n",
       "      <td>31.160927</td>\n",
       "      <td>41.201628</td>\n",
       "      <td>1506.677520</td>\n",
       "      <td>22.254227</td>\n",
       "      <td>26.670006</td>\n",
       "      <td>6.390106</td>\n",
       "      <td>4.814560</td>\n",
       "      <td>5.344108</td>\n",
       "      <td>66.493663</td>\n",
       "      <td>1506.677520</td>\n",
       "    </tr>\n",
       "    <tr>\n",
       "      <th>3</th>\n",
       "      <td>25463.546733</td>\n",
       "      <td>0.048801</td>\n",
       "      <td>4.729529</td>\n",
       "      <td>0.030604</td>\n",
       "      <td>0.991729</td>\n",
       "      <td>0.961952</td>\n",
       "      <td>0.118280</td>\n",
       "      <td>0.151365</td>\n",
       "      <td>0.405294</td>\n",
       "      <td>1.692308</td>\n",
       "      <td>...</td>\n",
       "      <td>33.314309</td>\n",
       "      <td>48.546733</td>\n",
       "      <td>1616.382961</td>\n",
       "      <td>21.687345</td>\n",
       "      <td>38.487179</td>\n",
       "      <td>4.418528</td>\n",
       "      <td>3.865657</td>\n",
       "      <td>4.937991</td>\n",
       "      <td>68.842169</td>\n",
       "      <td>1616.382961</td>\n",
       "    </tr>\n",
       "    <tr>\n",
       "      <th>4</th>\n",
       "      <td>61570.166111</td>\n",
       "      <td>0.014343</td>\n",
       "      <td>5.205971</td>\n",
       "      <td>0.009340</td>\n",
       "      <td>0.998332</td>\n",
       "      <td>0.973316</td>\n",
       "      <td>0.314710</td>\n",
       "      <td>0.444296</td>\n",
       "      <td>0.283856</td>\n",
       "      <td>1.605070</td>\n",
       "      <td>...</td>\n",
       "      <td>36.078886</td>\n",
       "      <td>92.818212</td>\n",
       "      <td>1729.945464</td>\n",
       "      <td>17.065210</td>\n",
       "      <td>68.265677</td>\n",
       "      <td>2.382422</td>\n",
       "      <td>2.454649</td>\n",
       "      <td>3.084552</td>\n",
       "      <td>124.198405</td>\n",
       "      <td>1729.945464</td>\n",
       "    </tr>\n",
       "  </tbody>\n",
       "</table>\n",
       "<p>4 rows × 139 columns</p>\n",
       "</div>"
      ],
      "text/plain": [
       "                v2a1    hacdor     rooms    hacapo      v14a    refrig  \\\n",
       "Target                                                                   \n",
       "1       17185.945695  0.147020  4.327152  0.075497  0.988079  0.887417   \n",
       "2       20472.204759  0.067627  4.483406  0.047589  0.986850  0.928616   \n",
       "3       25463.546733  0.048801  4.729529  0.030604  0.991729  0.961952   \n",
       "4       61570.166111  0.014343  5.205971  0.009340  0.998332  0.973316   \n",
       "\n",
       "            v18q     v18q1      r4h1      r4h2  ...        age  SQBescolari  \\\n",
       "Target                                          ...                           \n",
       "1       0.079470  0.137748  0.796026  1.160265  ...  28.435762    37.505960   \n",
       "2       0.078272  0.099562  0.560426  1.474640  ...  31.160927    41.201628   \n",
       "3       0.118280  0.151365  0.405294  1.692308  ...  33.314309    48.546733   \n",
       "4       0.314710  0.444296  0.283856  1.605070  ...  36.078886    92.818212   \n",
       "\n",
       "             SQBage  SQBhogar_total  SQBedjefe  SQBhogar_nin  SQBovercrowding  \\\n",
       "Target                                                                          \n",
       "1       1293.280795       24.860927  17.030464      9.156291         5.264670   \n",
       "2       1506.677520       22.254227  26.670006      6.390106         4.814560   \n",
       "3       1616.382961       21.687345  38.487179      4.418528         3.865657   \n",
       "4       1729.945464       17.065210  68.265677      2.382422         2.454649   \n",
       "\n",
       "        SQBdependency   SQBmeaned        agesq  \n",
       "Target                                          \n",
       "1            5.664459   61.361065  1293.280795  \n",
       "2            5.344108   66.493663  1506.677520  \n",
       "3            4.937991   68.842169  1616.382961  \n",
       "4            3.084552  124.198405  1729.945464  \n",
       "\n",
       "[4 rows x 139 columns]"
      ]
     },
     "execution_count": 72,
     "metadata": {},
     "output_type": "execute_result"
    }
   ],
   "source": [
    "train.groupby('Target').mean()"
   ]
  },
  {
   "cell_type": "markdown",
   "metadata": {},
   "source": [
    "# Data Visualisation"
   ]
  },
  {
   "cell_type": "code",
   "execution_count": 81,
   "metadata": {},
   "outputs": [],
   "source": [
    "train['Target']=train['Target'].astype('int32')\n",
    "train['Target'].replace((1,2,3,4),('extreme poverty','moderate poverty','vulnerable households','non vulnerble households'),inplace=True)\n"
   ]
  },
  {
   "cell_type": "code",
   "execution_count": null,
   "metadata": {},
   "outputs": [],
   "source": [
    "plt.hist('Target',data=train)\n",
    "plt.show()\n",
    "plt.title('Household Poverty levels')"
   ]
  },
  {
   "cell_type": "code",
   "execution_count": null,
   "metadata": {},
   "outputs": [],
   "source": []
  }
 ],
 "metadata": {
  "kernelspec": {
   "display_name": "Python 3",
   "language": "python",
   "name": "python3"
  },
  "language_info": {
   "codemirror_mode": {
    "name": "ipython",
    "version": 3
   },
   "file_extension": ".py",
   "mimetype": "text/x-python",
   "name": "python",
   "nbconvert_exporter": "python",
   "pygments_lexer": "ipython3",
   "version": "3.6.4"
  }
 },
 "nbformat": 4,
 "nbformat_minor": 2
}
